{
 "cells": [
  {
   "cell_type": "code",
   "execution_count": 20,
   "metadata": {},
   "outputs": [],
   "source": [
    "import numpy as np\n",
    "import matplotlib.pyplot as plt\n",
    "%matplotlib inline\n",
    "def actual_fun(x):\n",
    "     return x*x\n",
    "def deriv(x):\n",
    "   \n",
    "    x_deriv = 2*x\n",
    "    return x_deriv\n",
    "\n",
    "def result(x_new,x_prev,precision, learning_rate):\n",
    "   \n",
    "   \n",
    "    x_list, y_list = [x_new], [actual_fun(x_new)]\n",
    "    while abs(x_new-x_prev) > precision:\n",
    "        x_prev = x_new\n",
    "        d_x = - deriv(x_prev)\n",
    "        x_new = x_prev + (learning_rate * d_x)\n",
    "        x_list.append(x_new)\n",
    "        y_list.append(actual_fun(x_new))\n",
    "    print (\"Local minimum occurs at: \"+ str(x_new))\n",
    "    print (\"Number of steps: \" + str(len(x_list)))\n",
    "   \n",
    "    plt.subplot(1,2,2)\n",
    "    plt.scatter(x_list,y_list,c=\"g\")\n",
    "    plt.plot(x_list,y_list,c=\"g\")\n",
    "    x=np.linspace(-5,5,500)\n",
    "    plt.plot(x,actual_fun(x), c=\"r\")\n",
    "    plt.title(\"Gradient descent\")\n",
    "    plt.show()"
   ]
  },
  {
   "cell_type": "code",
   "execution_count": 21,
   "metadata": {},
   "outputs": [
    {
     "name": "stdout",
     "output_type": "stream",
     "text": [
      "Local minimum occurs at: 0.008985051499572147\n",
      "Number of steps: 60\n"
     ]
    },
    {
     "data": {
      "image/png": "[encoded data removed]",
      "text/plain": [
       "<Figure size 432x288 with 1 Axes>"
      ]
     },
     "metadata": {
      "needs_background": "light"
     },
     "output_type": "display_data"
    }
   ],
   "source": [
    "result(4.5,4,0.001,0.05)"
   ]
  },
  {
   "cell_type": "code",
   "execution_count": 29,
   "metadata": {},
   "outputs": [
    {
     "name": "stdout",
     "output_type": "stream",
     "text": [
      "Local minimum occurs at: 0.8231113774519137\n",
      "Number of steps: 2\n"
     ]
    },
    {
     "data": {
      "image/png": "[encoded data removed]",
      "text/plain": [
       "<Figure size 432x288 with 1 Axes>"
      ]
     },
     "metadata": {
      "needs_background": "light"
     },
     "output_type": "display_data"
    }
   ],
   "source": [
    "import numpy as np\n",
    "import math\n",
    "import matplotlib.pyplot as plt\n",
    "%matplotlib inline\n",
    "import decimal\n",
    "decimal.getcontext().prec = 100\n",
    "\n",
    "def actual_fun1(x_new):\n",
    "    return ((math.sin(10 * 3.14 * x_new) / 2 *x_new) + ((x_new-1)**4))\n",
    "def deriv1(x):\n",
    "    x_deriv = -((math.sin(10*np.pi*x))/(2*x))+((5*np.pi*np.cos(10*np.pi*x))/x)+(4*(x-1)**3)\n",
    "#     ((((10* 3.14* math.cos(10 * 3.14* x))-(math.sin(10*3.14*x)))/2*(x**2)) + 4 * ((x-1)**3))\n",
    "    return x_deriv\n",
    "def result1(x_new,x_prev,precision, l_r):\n",
    "\n",
    "    x_list, y_list = [x_new], [actual_fun1(x_new)]\n",
    "    while (x_new-x_prev) > precision:\n",
    "        x_prev = x_new\n",
    "        d_x = -deriv1(x_new)\n",
    "        x_new = x_prev + (l_r * d_x)\n",
    "        x_list.append(x_new)\n",
    "        #print(x_list)\n",
    "        y_list.append(actual_fun1(x_new))\n",
    "        #print(y_list)\n",
    "\n",
    "    print (\"Local minimum occurs at: \"+ str(x_new))\n",
    "    print (\"Number of steps: \" + str(len(x_list)))\n",
    "    #print(x_list)\n",
    "    #print(y_list)\n",
    "   \n",
    "   \n",
    "    plt.subplot(1,2,2)\n",
    "    plt.scatter(x_list,y_list,c=\"g\")\n",
    "    plt.plot(x_list,y_list,c=\"g\")\n",
    "    x = np.linspace(0.5,2.5,200)\n",
    "    f2=np.vectorize(actual_fun1)\n",
    "    plt.plot(x,f2(x), c=\"r\")\n",
    "    plt.title(\"Gradient descent\")\n",
    "    plt.show()\n",
    "\n",
    "result1(2.4,2.1,0.01,0.09)\n",
    "\n"
   ]
  }
 ],
 "metadata": {
  "kernelspec": {
   "display_name": "Python 3",
   "language": "python",
   "name": "python3"
  },
  "language_info": {
   "codemirror_mode": {
    "name": "ipython",
    "version": 3
   },
   "file_extension": ".py",
   "mimetype": "text/x-python",
   "name": "python",
   "nbconvert_exporter": "python",
   "pygments_lexer": "ipython3",
   "version": "3.6.8"
  }
 },
 "nbformat": 4,
 "nbformat_minor": 2
}
